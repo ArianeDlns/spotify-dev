{
 "cells": [
  {
   "cell_type": "code",
   "execution_count": 2,
   "metadata": {},
   "outputs": [
    {
     "data": {
      "application/javascript": "\n            setTimeout(function() {\n                var nbb_cell_id = 2;\n                var nbb_unformatted_code = \"%load_ext nb_black\\n\\n%load_ext autoreload\\n%autoreload 2\";\n                var nbb_formatted_code = \"%load_ext nb_black\\n\\n%load_ext autoreload\\n%autoreload 2\";\n                var nbb_cells = Jupyter.notebook.get_cells();\n                for (var i = 0; i < nbb_cells.length; ++i) {\n                    if (nbb_cells[i].input_prompt_number == nbb_cell_id) {\n                        if (nbb_cells[i].get_text() == nbb_unformatted_code) {\n                             nbb_cells[i].set_text(nbb_formatted_code);\n                        }\n                        break;\n                    }\n                }\n            }, 500);\n            ",
      "text/plain": [
       "<IPython.core.display.Javascript object>"
      ]
     },
     "metadata": {},
     "output_type": "display_data"
    }
   ],
   "source": [
    "%load_ext nb_black\n",
    "\n",
    "%load_ext autoreload\n",
    "%autoreload 2"
   ]
  },
  {
   "cell_type": "code",
   "execution_count": 3,
   "metadata": {},
   "outputs": [
    {
     "name": "stdout",
     "output_type": "stream",
     "text": [
      "working dir is '/Users/ariane/GitHub/spotify-dev'\n"
     ]
    },
    {
     "data": {
      "application/javascript": "\n            setTimeout(function() {\n                var nbb_cell_id = 3;\n                var nbb_unformatted_code = \"def set_paths() -> None:\\n    \\\"\\\"\\\"\\n    set correct working directory and python path \\n    \\\"\\\"\\\"\\n    import sys\\n    import os\\n\\n    # only change the directory if we have not yet done so\\n    if \\\"cwd\\\" not in globals():\\n        # noinspection PyGlobalUndefined\\n        global cwd\\n        cwd = os.path.join(os.getcwd(), os.pardir)\\n        os.chdir(cwd)\\n\\n    print(f\\\"working dir is '{os.getcwd()}'\\\")\\n\\n# we are setting the path to the root directory of the project\\n# allowing us to load the packages\\nset_paths()\";\n                var nbb_formatted_code = \"def set_paths() -> None:\\n    \\\"\\\"\\\"\\n    set correct working directory and python path\\n    \\\"\\\"\\\"\\n    import sys\\n    import os\\n\\n    # only change the directory if we have not yet done so\\n    if \\\"cwd\\\" not in globals():\\n        # noinspection PyGlobalUndefined\\n        global cwd\\n        cwd = os.path.join(os.getcwd(), os.pardir)\\n        os.chdir(cwd)\\n\\n    print(f\\\"working dir is '{os.getcwd()}'\\\")\\n\\n\\n# we are setting the path to the root directory of the project\\n# allowing us to load the packages\\nset_paths()\";\n                var nbb_cells = Jupyter.notebook.get_cells();\n                for (var i = 0; i < nbb_cells.length; ++i) {\n                    if (nbb_cells[i].input_prompt_number == nbb_cell_id) {\n                        if (nbb_cells[i].get_text() == nbb_unformatted_code) {\n                             nbb_cells[i].set_text(nbb_formatted_code);\n                        }\n                        break;\n                    }\n                }\n            }, 500);\n            ",
      "text/plain": [
       "<IPython.core.display.Javascript object>"
      ]
     },
     "metadata": {},
     "output_type": "display_data"
    }
   ],
   "source": [
    "def set_paths() -> None:\n",
    "    \"\"\"\n",
    "    set correct working directory and python path \n",
    "    \"\"\"\n",
    "    import sys\n",
    "    import os\n",
    "\n",
    "    # only change the directory if we have not yet done so\n",
    "    if \"cwd\" not in globals():\n",
    "        # noinspection PyGlobalUndefined\n",
    "        global cwd\n",
    "        cwd = os.path.join(os.getcwd(), os.pardir)\n",
    "        os.chdir(cwd)\n",
    "\n",
    "    print(f\"working dir is '{os.getcwd()}'\")\n",
    "\n",
    "# we are setting the path to the root directory of the project\n",
    "# allowing us to load the packages\n",
    "set_paths()"
   ]
  },
  {
   "cell_type": "code",
   "execution_count": 4,
   "metadata": {},
   "outputs": [
    {
     "data": {
      "application/javascript": "\n            setTimeout(function() {\n                var nbb_cell_id = 4;\n                var nbb_unformatted_code = \"import os\\nimport numpy as np\\nimport pandas as pd\\nimport spotipy\\nimport yaml\\nfrom spotipy.oauth2 import SpotifyClientCredentials\";\n                var nbb_formatted_code = \"import os\\nimport numpy as np\\nimport pandas as pd\\nimport spotipy\\nimport yaml\\nfrom spotipy.oauth2 import SpotifyClientCredentials\";\n                var nbb_cells = Jupyter.notebook.get_cells();\n                for (var i = 0; i < nbb_cells.length; ++i) {\n                    if (nbb_cells[i].input_prompt_number == nbb_cell_id) {\n                        if (nbb_cells[i].get_text() == nbb_unformatted_code) {\n                             nbb_cells[i].set_text(nbb_formatted_code);\n                        }\n                        break;\n                    }\n                }\n            }, 500);\n            ",
      "text/plain": [
       "<IPython.core.display.Javascript object>"
      ]
     },
     "metadata": {},
     "output_type": "display_data"
    }
   ],
   "source": [
    "import os\n",
    "import numpy as np\n",
    "import pandas as pd\n",
    "import spotipy\n",
    "import yaml\n",
    "from spotipy.oauth2 import SpotifyClientCredentials\n"
   ]
  },
  {
   "cell_type": "markdown",
   "metadata": {},
   "source": [
    "## Download data from Spotify API"
   ]
  },
  {
   "cell_type": "code",
   "execution_count": 5,
   "metadata": {},
   "outputs": [
    {
     "data": {
      "application/javascript": "\n            setTimeout(function() {\n                var nbb_cell_id = 5;\n                var nbb_unformatted_code = \"# Read the credentials from credentials.yml\\nwith open(\\\"credentials.yml\\\") as f:\\n    credentials = yaml.load(f, Loader=yaml.FullLoader)\\n\\n# Set up the Spotify API\\nclient_id = credentials[\\\"client_id\\\"]  # YOUR_CLIENT_ID\\nclient_secret = credentials[\\\"client_secret\\\"]  # YOUR_CLIENT_SECRET\\nclient_credentials_manager = SpotifyClientCredentials(client_id, client_secret)\\n\\n# Set global variables  \\nos.environ[\\\"SPOTIPY_CLIENT_ID\\\"] = client_id\\nos.environ[\\\"SPOTIPY_CLIENT_SECRET\\\"] = client_secret\\nos.environ[\\\"SPOTIPY_REDIRECT_URI\\\"] = \\\"http://localhost:8090/callback\\\"\";\n                var nbb_formatted_code = \"# Read the credentials from credentials.yml\\nwith open(\\\"credentials.yml\\\") as f:\\n    credentials = yaml.load(f, Loader=yaml.FullLoader)\\n\\n# Set up the Spotify API\\nclient_id = credentials[\\\"client_id\\\"]  # YOUR_CLIENT_ID\\nclient_secret = credentials[\\\"client_secret\\\"]  # YOUR_CLIENT_SECRET\\nclient_credentials_manager = SpotifyClientCredentials(client_id, client_secret)\\n\\n# Set global variables\\nos.environ[\\\"SPOTIPY_CLIENT_ID\\\"] = client_id\\nos.environ[\\\"SPOTIPY_CLIENT_SECRET\\\"] = client_secret\\nos.environ[\\\"SPOTIPY_REDIRECT_URI\\\"] = \\\"http://localhost:8090/callback\\\"\";\n                var nbb_cells = Jupyter.notebook.get_cells();\n                for (var i = 0; i < nbb_cells.length; ++i) {\n                    if (nbb_cells[i].input_prompt_number == nbb_cell_id) {\n                        if (nbb_cells[i].get_text() == nbb_unformatted_code) {\n                             nbb_cells[i].set_text(nbb_formatted_code);\n                        }\n                        break;\n                    }\n                }\n            }, 500);\n            ",
      "text/plain": [
       "<IPython.core.display.Javascript object>"
      ]
     },
     "metadata": {},
     "output_type": "display_data"
    }
   ],
   "source": [
    "# Read the credentials from credentials.yml\n",
    "with open(\"credentials.yml\") as f:\n",
    "    credentials = yaml.load(f, Loader=yaml.FullLoader)\n",
    "\n",
    "# Set up the Spotify API\n",
    "client_id = credentials[\"client_id\"]  # YOUR_CLIENT_ID\n",
    "client_secret = credentials[\"client_secret\"]  # YOUR_CLIENT_SECRET\n",
    "client_credentials_manager = SpotifyClientCredentials(client_id, client_secret)\n",
    "\n",
    "# Set global variables  \n",
    "os.environ[\"SPOTIPY_CLIENT_ID\"] = client_id\n",
    "os.environ[\"SPOTIPY_CLIENT_SECRET\"] = client_secret\n",
    "os.environ[\"SPOTIPY_REDIRECT_URI\"] = \"http://localhost:8090/callback\""
   ]
  },
  {
   "cell_type": "markdown",
   "metadata": {},
   "source": [
    "<div class=\"alert alert-block alert-info\">\n",
    "<b><font color='orange'>Authentification:</font></b> Identify through OAuth\n",
    "</div>"
   ]
  },
  {
   "cell_type": "code",
   "execution_count": 6,
   "metadata": {},
   "outputs": [
    {
     "data": {
      "application/javascript": "\n            setTimeout(function() {\n                var nbb_cell_id = 6;\n                var nbb_unformatted_code = \"from spotipy.oauth2 import SpotifyOAuth\\n\\nscope = 'playlist-read-private'\\nsp = spotipy.Spotify(auth_manager=SpotifyOAuth(scope=scope))\";\n                var nbb_formatted_code = \"from spotipy.oauth2 import SpotifyOAuth\\n\\nscope = \\\"playlist-read-private\\\"\\nsp = spotipy.Spotify(auth_manager=SpotifyOAuth(scope=scope))\";\n                var nbb_cells = Jupyter.notebook.get_cells();\n                for (var i = 0; i < nbb_cells.length; ++i) {\n                    if (nbb_cells[i].input_prompt_number == nbb_cell_id) {\n                        if (nbb_cells[i].get_text() == nbb_unformatted_code) {\n                             nbb_cells[i].set_text(nbb_formatted_code);\n                        }\n                        break;\n                    }\n                }\n            }, 500);\n            ",
      "text/plain": [
       "<IPython.core.display.Javascript object>"
      ]
     },
     "metadata": {},
     "output_type": "display_data"
    }
   ],
   "source": [
    "from spotipy.oauth2 import SpotifyOAuth\n",
    "\n",
    "scope = 'playlist-read-private'\n",
    "sp = spotipy.Spotify(auth_manager=SpotifyOAuth(scope=scope))"
   ]
  },
  {
   "cell_type": "markdown",
   "metadata": {},
   "source": [
    "## Define useful functions"
   ]
  },
  {
   "cell_type": "code",
   "execution_count": 7,
   "metadata": {},
   "outputs": [
    {
     "data": {
      "application/javascript": "\n            setTimeout(function() {\n                var nbb_cell_id = 7;\n                var nbb_unformatted_code = \"# my spotify username and playlist ids \\n# on playlist page, click on \\\"...\\\" -> then on \\\"Share\\\" -> then \\\"Copy Spotify URI\\\"\\ndef getTrackIDs(user: str, playlist_id: str):\\n    \\\"\\\"\\\"\\n    Get track ids from a playlist   \\n    Args:\\n        user (str): spotify username\\n        playlist_id (str): spotify playlist id\\n    Returns:\\n        track_infos (list): list of track infos\\n    \\\"\\\"\\\"\\n    track_infos = []\\n    playlist = sp.user_playlist(user, playlist_id)\\n    for idx, item in enumerate(playlist['tracks']['items']):\\n        track = item['track']\\n        track_infos.append([track['id'], idx, item['added_by']['id']])\\n    return track_infos\";\n                var nbb_formatted_code = \"# my spotify username and playlist ids\\n# on playlist page, click on \\\"...\\\" -> then on \\\"Share\\\" -> then \\\"Copy Spotify URI\\\"\\ndef getTrackIDs(user: str, playlist_id: str):\\n    \\\"\\\"\\\"\\n    Get track ids from a playlist\\n    Args:\\n        user (str): spotify username\\n        playlist_id (str): spotify playlist id\\n    Returns:\\n        track_infos (list): list of track infos\\n    \\\"\\\"\\\"\\n    track_infos = []\\n    playlist = sp.user_playlist(user, playlist_id)\\n    for idx, item in enumerate(playlist[\\\"tracks\\\"][\\\"items\\\"]):\\n        track = item[\\\"track\\\"]\\n        track_infos.append([track[\\\"id\\\"], idx, item[\\\"added_by\\\"][\\\"id\\\"]])\\n    return track_infos\";\n                var nbb_cells = Jupyter.notebook.get_cells();\n                for (var i = 0; i < nbb_cells.length; ++i) {\n                    if (nbb_cells[i].input_prompt_number == nbb_cell_id) {\n                        if (nbb_cells[i].get_text() == nbb_unformatted_code) {\n                             nbb_cells[i].set_text(nbb_formatted_code);\n                        }\n                        break;\n                    }\n                }\n            }, 500);\n            ",
      "text/plain": [
       "<IPython.core.display.Javascript object>"
      ]
     },
     "metadata": {},
     "output_type": "display_data"
    }
   ],
   "source": [
    "# my spotify username and playlist ids \n",
    "# on playlist page, click on \"...\" -> then on \"Share\" -> then \"Copy Spotify URI\"\n",
    "def getTrackIDs(user: str, playlist_id: str):\n",
    "    \"\"\"\n",
    "    Get track ids from a playlist   \n",
    "    Args:\n",
    "        user (str): spotify username\n",
    "        playlist_id (str): spotify playlist id\n",
    "    Returns:\n",
    "        track_infos (list): list of track infos\n",
    "    \"\"\"\n",
    "    track_infos = []\n",
    "    playlist = sp.user_playlist(user, playlist_id)\n",
    "    for idx, item in enumerate(playlist['tracks']['items']):\n",
    "        track = item['track']\n",
    "        track_infos.append([track['id'], idx, item['added_by']['id']])\n",
    "    return track_infos"
   ]
  },
  {
   "cell_type": "code",
   "execution_count": 8,
   "metadata": {},
   "outputs": [
    {
     "data": {
      "application/javascript": "\n            setTimeout(function() {\n                var nbb_cell_id = 8;\n                var nbb_unformatted_code = \"# Get spotify singular song data from these locations\\n# https://developer.spotify.com/documentation/web-api/reference/#/operations/get-track\\n# https://developer.spotify.com/documentation/web-api/reference/#/operations/get-audio-features\\n\\ndef getTrackFeatures(id: str):\\n    \\\"\\\"\\\"\\n    Get the audio features for a single track\\n    Args:\\n        id: the spotify id of the track\\n    Returns:\\n        a dictionary of the audio features  \\n    \\\"\\\"\\\"\\n    meta = sp.track(id)\\n    features = sp.audio_features(id)\\n\\n    # meta\\n    name = meta['name']\\n    album = meta['album']['name']\\n    artist = meta['album']['artists'][0]['name']\\n    release_date = meta['album']['release_date']\\n    length = meta['duration_ms']\\n    popularity = meta['popularity']\\n\\n    # features\\n    acousticness = features[0]['acousticness']\\n    danceability = features[0]['danceability']\\n    energy = features[0]['energy']\\n    instrumentalness = features[0]['instrumentalness']\\n    liveness = features[0]['liveness']\\n    loudness = features[0]['loudness']\\n    speechiness = features[0]['speechiness']\\n    tempo = features[0]['tempo']\\n    valence = features[0]['valence']\\n    time_signature = features[0]['time_signature']\\n    key = features[0]['key']\\n    mode = features[0]['mode']\\n    uri = features[0]['uri']\\n\\n    track = [name, album, artist, release_date,\\n             length, popularity, acousticness,\\n             danceability, energy, instrumentalness, \\n             liveness, loudness, speechiness, tempo, \\n             valence, time_signature,\\n             key, mode, uri]\\n    return track\";\n                var nbb_formatted_code = \"# Get spotify singular song data from these locations\\n# https://developer.spotify.com/documentation/web-api/reference/#/operations/get-track\\n# https://developer.spotify.com/documentation/web-api/reference/#/operations/get-audio-features\\n\\n\\ndef getTrackFeatures(id: str):\\n    \\\"\\\"\\\"\\n    Get the audio features for a single track\\n    Args:\\n        id: the spotify id of the track\\n    Returns:\\n        a dictionary of the audio features\\n    \\\"\\\"\\\"\\n    meta = sp.track(id)\\n    features = sp.audio_features(id)\\n\\n    # meta\\n    name = meta[\\\"name\\\"]\\n    album = meta[\\\"album\\\"][\\\"name\\\"]\\n    artist = meta[\\\"album\\\"][\\\"artists\\\"][0][\\\"name\\\"]\\n    release_date = meta[\\\"album\\\"][\\\"release_date\\\"]\\n    length = meta[\\\"duration_ms\\\"]\\n    popularity = meta[\\\"popularity\\\"]\\n\\n    # features\\n    acousticness = features[0][\\\"acousticness\\\"]\\n    danceability = features[0][\\\"danceability\\\"]\\n    energy = features[0][\\\"energy\\\"]\\n    instrumentalness = features[0][\\\"instrumentalness\\\"]\\n    liveness = features[0][\\\"liveness\\\"]\\n    loudness = features[0][\\\"loudness\\\"]\\n    speechiness = features[0][\\\"speechiness\\\"]\\n    tempo = features[0][\\\"tempo\\\"]\\n    valence = features[0][\\\"valence\\\"]\\n    time_signature = features[0][\\\"time_signature\\\"]\\n    key = features[0][\\\"key\\\"]\\n    mode = features[0][\\\"mode\\\"]\\n    uri = features[0][\\\"uri\\\"]\\n\\n    track = [\\n        name,\\n        album,\\n        artist,\\n        release_date,\\n        length,\\n        popularity,\\n        acousticness,\\n        danceability,\\n        energy,\\n        instrumentalness,\\n        liveness,\\n        loudness,\\n        speechiness,\\n        tempo,\\n        valence,\\n        time_signature,\\n        key,\\n        mode,\\n        uri,\\n    ]\\n    return track\";\n                var nbb_cells = Jupyter.notebook.get_cells();\n                for (var i = 0; i < nbb_cells.length; ++i) {\n                    if (nbb_cells[i].input_prompt_number == nbb_cell_id) {\n                        if (nbb_cells[i].get_text() == nbb_unformatted_code) {\n                             nbb_cells[i].set_text(nbb_formatted_code);\n                        }\n                        break;\n                    }\n                }\n            }, 500);\n            ",
      "text/plain": [
       "<IPython.core.display.Javascript object>"
      ]
     },
     "metadata": {},
     "output_type": "display_data"
    }
   ],
   "source": [
    "# Get spotify singular song data from these locations\n",
    "# https://developer.spotify.com/documentation/web-api/reference/#/operations/get-track\n",
    "# https://developer.spotify.com/documentation/web-api/reference/#/operations/get-audio-features\n",
    "\n",
    "def getTrackFeatures(id: str):\n",
    "    \"\"\"\n",
    "    Get the audio features for a single track\n",
    "    Args:\n",
    "        id: the spotify id of the track\n",
    "    Returns:\n",
    "        a dictionary of the audio features  \n",
    "    \"\"\"\n",
    "    meta = sp.track(id)\n",
    "    features = sp.audio_features(id)\n",
    "\n",
    "    # meta\n",
    "    name = meta['name']\n",
    "    album = meta['album']['name']\n",
    "    artist = meta['album']['artists'][0]['name']\n",
    "    release_date = meta['album']['release_date']\n",
    "    length = meta['duration_ms']\n",
    "    popularity = meta['popularity']\n",
    "\n",
    "    # features\n",
    "    acousticness = features[0]['acousticness']\n",
    "    danceability = features[0]['danceability']\n",
    "    energy = features[0]['energy']\n",
    "    instrumentalness = features[0]['instrumentalness']\n",
    "    liveness = features[0]['liveness']\n",
    "    loudness = features[0]['loudness']\n",
    "    speechiness = features[0]['speechiness']\n",
    "    tempo = features[0]['tempo']\n",
    "    valence = features[0]['valence']\n",
    "    time_signature = features[0]['time_signature']\n",
    "    key = features[0]['key']\n",
    "    mode = features[0]['mode']\n",
    "    uri = features[0]['uri']\n",
    "\n",
    "    track = [name, album, artist, release_date,\n",
    "             length, popularity, acousticness,\n",
    "             danceability, energy, instrumentalness, \n",
    "             liveness, loudness, speechiness, tempo, \n",
    "             valence, time_signature,\n",
    "             key, mode, uri]\n",
    "    return track\n"
   ]
  },
  {
   "cell_type": "markdown",
   "metadata": {},
   "source": [
    "## Play with the API\n"
   ]
  },
  {
   "cell_type": "markdown",
   "metadata": {},
   "source": [
    "### Define a few useful variables"
   ]
  },
  {
   "cell_type": "code",
   "execution_count": 9,
   "metadata": {},
   "outputs": [
    {
     "data": {
      "application/javascript": "\n            setTimeout(function() {\n                var nbb_cell_id = 9;\n                var nbb_unformatted_code = \"username = \\\"arianedalens\\\"\\nplaylist_id = \\\"37i9dQZF1EJubkRHzOYlbh?si=2a1ff6c599a94644\\\"\";\n                var nbb_formatted_code = \"username = \\\"arianedalens\\\"\\nplaylist_id = \\\"37i9dQZF1EJubkRHzOYlbh?si=2a1ff6c599a94644\\\"\";\n                var nbb_cells = Jupyter.notebook.get_cells();\n                for (var i = 0; i < nbb_cells.length; ++i) {\n                    if (nbb_cells[i].input_prompt_number == nbb_cell_id) {\n                        if (nbb_cells[i].get_text() == nbb_unformatted_code) {\n                             nbb_cells[i].set_text(nbb_formatted_code);\n                        }\n                        break;\n                    }\n                }\n            }, 500);\n            ",
      "text/plain": [
       "<IPython.core.display.Javascript object>"
      ]
     },
     "metadata": {},
     "output_type": "display_data"
    }
   ],
   "source": [
    "username = \"arianedalens\"\n",
    "playlist_id = \"37i9dQZF1EJubkRHzOYlbh?si=2a1ff6c599a94644\""
   ]
  },
  {
   "cell_type": "markdown",
   "metadata": {},
   "source": [
    "<div class=\"alert alert-block alert-success\">\n",
    "<b><font color='green'>Explore:</font></b> User data\n",
    "</div>"
   ]
  },
  {
   "cell_type": "code",
   "execution_count": 10,
   "metadata": {},
   "outputs": [
    {
     "name": "stdout",
     "output_type": "stream",
     "text": [
      "{'display_name': 'Laetitia Giovannoni', 'external_urls': {'spotify': 'https://open.spotify.com/user/laeti0306'}, 'followers': {'href': None, 'total': 1}, 'href': 'https://api.spotify.com/v1/users/laeti0306', 'id': 'laeti0306', 'images': [{'height': None, 'url': 'https://platform-lookaside.fbsbx.com/platform/profilepic/?asid=755165281183281&height=300&width=300&ext=1671113263&hash=AeRquiKD5pfETdIwzH0', 'width': None}], 'type': 'user', 'uri': 'spotify:user:laeti0306'}\n"
     ]
    },
    {
     "data": {
      "application/javascript": "\n            setTimeout(function() {\n                var nbb_cell_id = 10;\n                var nbb_unformatted_code = \"user = sp.user(\\\"laeti0306\\\")\\nprint(user)\";\n                var nbb_formatted_code = \"user = sp.user(\\\"laeti0306\\\")\\nprint(user)\";\n                var nbb_cells = Jupyter.notebook.get_cells();\n                for (var i = 0; i < nbb_cells.length; ++i) {\n                    if (nbb_cells[i].input_prompt_number == nbb_cell_id) {\n                        if (nbb_cells[i].get_text() == nbb_unformatted_code) {\n                             nbb_cells[i].set_text(nbb_formatted_code);\n                        }\n                        break;\n                    }\n                }\n            }, 500);\n            ",
      "text/plain": [
       "<IPython.core.display.Javascript object>"
      ]
     },
     "metadata": {},
     "output_type": "display_data"
    }
   ],
   "source": [
    "user = sp.user(\"laeti0306\")\n",
    "print(user)"
   ]
  },
  {
   "cell_type": "markdown",
   "metadata": {},
   "source": [
    "<div class=\"alert alert-block alert-success\">\n",
    "<b><font color='green'>Explore:</font></b> Playlists from a user\n",
    "</div>"
   ]
  },
  {
   "cell_type": "code",
   "execution_count": 33,
   "metadata": {},
   "outputs": [
    {
     "name": "stdout",
     "output_type": "stream",
     "text": [
      "0 Coline's picks\n",
      "1 Radar des sorties\n",
      "2 Discover Weekly\n",
      "3 Your Time Capsule\n",
      "4 On Repeat\n",
      "5 Ariane\n",
      "6 TBD\n",
      "7 La vrai playlist à deux ! \n",
      "8 Laetitia + Ariane\n",
      "9 Daily Mix 1\n"
     ]
    },
    {
     "data": {
      "application/javascript": "\n            setTimeout(function() {\n                var nbb_cell_id = 33;\n                var nbb_unformatted_code = \"results = sp.current_user_playlists(limit=10, offset=0)\\nfor i, item in enumerate(results['items']):\\n    print(\\\"%d %s\\\" % (i, item['name']))\";\n                var nbb_formatted_code = \"results = sp.current_user_playlists(limit=10, offset=0)\\nfor i, item in enumerate(results[\\\"items\\\"]):\\n    print(\\\"%d %s\\\" % (i, item[\\\"name\\\"]))\";\n                var nbb_cells = Jupyter.notebook.get_cells();\n                for (var i = 0; i < nbb_cells.length; ++i) {\n                    if (nbb_cells[i].input_prompt_number == nbb_cell_id) {\n                        if (nbb_cells[i].get_text() == nbb_unformatted_code) {\n                             nbb_cells[i].set_text(nbb_formatted_code);\n                        }\n                        break;\n                    }\n                }\n            }, 500);\n            ",
      "text/plain": [
       "<IPython.core.display.Javascript object>"
      ]
     },
     "metadata": {},
     "output_type": "display_data"
    }
   ],
   "source": [
    "results = sp.current_user_playlists(limit=10, offset=0)\n",
    "for i, item in enumerate(results['items']):\n",
    "    print(\"%d %s\" % (i, item['name']))"
   ]
  },
  {
   "cell_type": "markdown",
   "metadata": {},
   "source": [
    "<div class=\"alert alert-block alert-success\">\n",
    "<b><font color='green'>EDA:</font></b> On a collaborative playlist"
   ]
  },
  {
   "cell_type": "code",
   "execution_count": 12,
   "metadata": {},
   "outputs": [
    {
     "data": {
      "application/javascript": "\n            setTimeout(function() {\n                var nbb_cell_id = 12;\n                var nbb_unformatted_code = \"track_infos = getTrackIDs(username, playlist_id)\\nfeatures_list = []\\nfor track_info in track_infos:\\n    features = getTrackFeatures(track_info[0])\\n    features_list.append([*features, *track_info[1:]])\\n    \\n# Create a dataframe from the list of features\\ndf = pd.DataFrame(features_list, columns=['name', 'album', 'artist', 'release_date',\\n                                            'length', 'popularity', 'acousticness',\\n                                            'danceability', 'energy', 'instrumentalness', \\n                                            'liveness', 'loudness', 'speechiness', 'tempo', \\n                                            'valence', 'time_signature',\\n                                            'key', 'mode', 'uri', 'playlist_idx', 'added_by'])\";\n                var nbb_formatted_code = \"track_infos = getTrackIDs(username, playlist_id)\\nfeatures_list = []\\nfor track_info in track_infos:\\n    features = getTrackFeatures(track_info[0])\\n    features_list.append([*features, *track_info[1:]])\\n\\n# Create a dataframe from the list of features\\ndf = pd.DataFrame(\\n    features_list,\\n    columns=[\\n        \\\"name\\\",\\n        \\\"album\\\",\\n        \\\"artist\\\",\\n        \\\"release_date\\\",\\n        \\\"length\\\",\\n        \\\"popularity\\\",\\n        \\\"acousticness\\\",\\n        \\\"danceability\\\",\\n        \\\"energy\\\",\\n        \\\"instrumentalness\\\",\\n        \\\"liveness\\\",\\n        \\\"loudness\\\",\\n        \\\"speechiness\\\",\\n        \\\"tempo\\\",\\n        \\\"valence\\\",\\n        \\\"time_signature\\\",\\n        \\\"key\\\",\\n        \\\"mode\\\",\\n        \\\"uri\\\",\\n        \\\"playlist_idx\\\",\\n        \\\"added_by\\\",\\n    ],\\n)\";\n                var nbb_cells = Jupyter.notebook.get_cells();\n                for (var i = 0; i < nbb_cells.length; ++i) {\n                    if (nbb_cells[i].input_prompt_number == nbb_cell_id) {\n                        if (nbb_cells[i].get_text() == nbb_unformatted_code) {\n                             nbb_cells[i].set_text(nbb_formatted_code);\n                        }\n                        break;\n                    }\n                }\n            }, 500);\n            ",
      "text/plain": [
       "<IPython.core.display.Javascript object>"
      ]
     },
     "metadata": {},
     "output_type": "display_data"
    }
   ],
   "source": [
    "track_infos = getTrackIDs(username, playlist_id)\n",
    "features_list = []\n",
    "for track_info in track_infos:\n",
    "    features = getTrackFeatures(track_info[0])\n",
    "    features_list.append([*features, *track_info[1:]])\n",
    "    \n",
    "# Create a dataframe from the list of features\n",
    "df = pd.DataFrame(features_list, columns=['name', 'album', 'artist', 'release_date',\n",
    "                                            'length', 'popularity', 'acousticness',\n",
    "                                            'danceability', 'energy', 'instrumentalness', \n",
    "                                            'liveness', 'loudness', 'speechiness', 'tempo', \n",
    "                                            'valence', 'time_signature',\n",
    "                                            'key', 'mode', 'uri', 'playlist_idx', 'added_by'])\n",
    "\n"
   ]
  },
  {
   "cell_type": "code",
   "execution_count": 14,
   "metadata": {},
   "outputs": [
    {
     "data": {
      "application/javascript": "\n            setTimeout(function() {\n                var nbb_cell_id = 14;\n                var nbb_unformatted_code = \"df.to_csv(\\\"data/raw/spotify_data.csv\\\", index=False)\";\n                var nbb_formatted_code = \"df.to_csv(\\\"data/raw/spotify_data.csv\\\", index=False)\";\n                var nbb_cells = Jupyter.notebook.get_cells();\n                for (var i = 0; i < nbb_cells.length; ++i) {\n                    if (nbb_cells[i].input_prompt_number == nbb_cell_id) {\n                        if (nbb_cells[i].get_text() == nbb_unformatted_code) {\n                             nbb_cells[i].set_text(nbb_formatted_code);\n                        }\n                        break;\n                    }\n                }\n            }, 500);\n            ",
      "text/plain": [
       "<IPython.core.display.Javascript object>"
      ]
     },
     "metadata": {},
     "output_type": "display_data"
    }
   ],
   "source": [
    "df.to_csv(\"data/raw/spotify_data.csv\", index=False)"
   ]
  },
  {
   "cell_type": "code",
   "execution_count": 35,
   "metadata": {},
   "outputs": [
    {
     "data": {
      "application/javascript": "\n            setTimeout(function() {\n                var nbb_cell_id = 35;\n                var nbb_unformatted_code = \"df_stat = df.groupby('added_by').mean()\";\n                var nbb_formatted_code = \"df_stat = df.groupby(\\\"added_by\\\").mean()\";\n                var nbb_cells = Jupyter.notebook.get_cells();\n                for (var i = 0; i < nbb_cells.length; ++i) {\n                    if (nbb_cells[i].input_prompt_number == nbb_cell_id) {\n                        if (nbb_cells[i].get_text() == nbb_unformatted_code) {\n                             nbb_cells[i].set_text(nbb_formatted_code);\n                        }\n                        break;\n                    }\n                }\n            }, 500);\n            ",
      "text/plain": [
       "<IPython.core.display.Javascript object>"
      ]
     },
     "metadata": {},
     "output_type": "display_data"
    }
   ],
   "source": [
    "df_stat = df.groupby('added_by').mean()"
   ]
  },
  {
   "cell_type": "code",
   "execution_count": 16,
   "metadata": {},
   "outputs": [
    {
     "name": "stdout",
     "output_type": "stream",
     "text": [
      "Laetitia Giovannoni\n",
      "https://platform-lookaside.fbsbx.com/platform/profilepic/?asid=755165281183281&height=300&width=300&ext=1671113263&hash=AeRquiKD5pfETdIwzH0\n",
      "Ariane Dlns\n",
      "https://i.scdn.co/image/ab6775700000ee8542e42794651cc973c190b2fb\n"
     ]
    },
    {
     "data": {
      "application/javascript": "\n            setTimeout(function() {\n                var nbb_cell_id = 16;\n                var nbb_unformatted_code = \"import urllib.request\\nfrom PIL import Image\\n\\nfor user in df.added_by.unique():\\n    print(sp.user(user)['display_name'])\\n    print(sp.user(user)['images'][0]['url'])\\n    #urllib.request.urlretrieve(sp.user(user)['images'][0]['url'], f\\\"img/users/{user}.jpg\\\") \\n    #img = Image.open(f\\\"img/users/{user}.jpg\\\")\\n    #img.show()\";\n                var nbb_formatted_code = \"import urllib.request\\nfrom PIL import Image\\n\\nfor user in df.added_by.unique():\\n    print(sp.user(user)[\\\"display_name\\\"])\\n    print(sp.user(user)[\\\"images\\\"][0][\\\"url\\\"])\\n    # urllib.request.urlretrieve(sp.user(user)['images'][0]['url'], f\\\"img/users/{user}.jpg\\\")\\n    # img = Image.open(f\\\"img/users/{user}.jpg\\\")\\n    # img.show()\";\n                var nbb_cells = Jupyter.notebook.get_cells();\n                for (var i = 0; i < nbb_cells.length; ++i) {\n                    if (nbb_cells[i].input_prompt_number == nbb_cell_id) {\n                        if (nbb_cells[i].get_text() == nbb_unformatted_code) {\n                             nbb_cells[i].set_text(nbb_formatted_code);\n                        }\n                        break;\n                    }\n                }\n            }, 500);\n            ",
      "text/plain": [
       "<IPython.core.display.Javascript object>"
      ]
     },
     "metadata": {},
     "output_type": "display_data"
    }
   ],
   "source": [
    "import urllib.request\n",
    "from PIL import Image\n",
    "\n",
    "for user in df.added_by.unique():\n",
    "    print(sp.user(user)['display_name'])\n",
    "    print(sp.user(user)['images'][0]['url'])\n",
    "    #urllib.request.urlretrieve(sp.user(user)['images'][0]['url'], f\"img/users/{user}.jpg\") \n",
    "    #img = Image.open(f\"img/users/{user}.jpg\")\n",
    "    #img.show()"
   ]
  }
 ],
 "metadata": {
  "kernelspec": {
   "display_name": "Python 3.8.10 64-bit",
   "language": "python",
   "name": "python3"
  },
  "language_info": {
   "codemirror_mode": {
    "name": "ipython",
    "version": 3
   },
   "file_extension": ".py",
   "mimetype": "text/x-python",
   "name": "python",
   "nbconvert_exporter": "python",
   "pygments_lexer": "ipython3",
   "version": "3.8.10"
  },
  "vscode": {
   "interpreter": {
    "hash": "0adcc2737ebf6a4a119f135174df96668767fca1ef1112612db5ecadf2b6d608"
   }
  }
 },
 "nbformat": 4,
 "nbformat_minor": 2
}
