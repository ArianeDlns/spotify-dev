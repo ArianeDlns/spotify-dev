{
 "cells": [
  {
   "cell_type": "code",
   "execution_count": 1,
   "metadata": {},
   "outputs": [
    {
     "data": {
      "application/javascript": "\n            setTimeout(function() {\n                var nbb_cell_id = 1;\n                var nbb_unformatted_code = \"%load_ext nb_black\\n\\n%load_ext autoreload\\n%autoreload 2\";\n                var nbb_formatted_code = \"%load_ext nb_black\\n\\n%load_ext autoreload\\n%autoreload 2\";\n                var nbb_cells = Jupyter.notebook.get_cells();\n                for (var i = 0; i < nbb_cells.length; ++i) {\n                    if (nbb_cells[i].input_prompt_number == nbb_cell_id) {\n                        if (nbb_cells[i].get_text() == nbb_unformatted_code) {\n                             nbb_cells[i].set_text(nbb_formatted_code);\n                        }\n                        break;\n                    }\n                }\n            }, 500);\n            ",
      "text/plain": [
       "<IPython.core.display.Javascript object>"
      ]
     },
     "metadata": {},
     "output_type": "display_data"
    }
   ],
   "source": [
    "%load_ext nb_black\n",
    "\n",
    "%load_ext autoreload\n",
    "%autoreload 2"
   ]
  },
  {
   "cell_type": "code",
   "execution_count": 3,
   "metadata": {},
   "outputs": [
    {
     "data": {
      "application/javascript": "\n            setTimeout(function() {\n                var nbb_cell_id = 3;\n                var nbb_unformatted_code = \"import os\\nimport numpy as np\\nimport pandas as pd\\nimport spotipy\\nimport yaml\\nfrom spotipy.oauth2 import SpotifyClientCredentials\";\n                var nbb_formatted_code = \"import os\\nimport numpy as np\\nimport pandas as pd\\nimport spotipy\\nimport yaml\\nfrom spotipy.oauth2 import SpotifyClientCredentials\";\n                var nbb_cells = Jupyter.notebook.get_cells();\n                for (var i = 0; i < nbb_cells.length; ++i) {\n                    if (nbb_cells[i].input_prompt_number == nbb_cell_id) {\n                        if (nbb_cells[i].get_text() == nbb_unformatted_code) {\n                             nbb_cells[i].set_text(nbb_formatted_code);\n                        }\n                        break;\n                    }\n                }\n            }, 500);\n            ",
      "text/plain": [
       "<IPython.core.display.Javascript object>"
      ]
     },
     "metadata": {},
     "output_type": "display_data"
    }
   ],
   "source": [
    "import os\n",
    "import numpy as np\n",
    "import pandas as pd\n",
    "import spotipy\n",
    "import yaml\n",
    "from spotipy.oauth2 import SpotifyClientCredentials\n"
   ]
  },
  {
   "cell_type": "markdown",
   "metadata": {},
   "source": [
    "## Download data from Spotify API"
   ]
  },
  {
   "cell_type": "code",
   "execution_count": 4,
   "metadata": {},
   "outputs": [
    {
     "data": {
      "application/javascript": "\n            setTimeout(function() {\n                var nbb_cell_id = 4;\n                var nbb_unformatted_code = \"# Read the credentials from credentials.yml\\nwith open(\\\"../credentials.yml\\\") as f:\\n    credentials = yaml.load(f, Loader=yaml.FullLoader)\\n\\n# Set up the Spotify API\\nclient_id = credentials[\\\"client_id\\\"]  # YOUR_CLIENT_ID\\nclient_secret = credentials[\\\"client_secret\\\"]  # YOUR_CLIENT_SECRET\\nclient_credentials_manager = SpotifyClientCredentials(client_id, client_secret)\\nsp = spotipy.Spotify(client_credentials_manager=client_credentials_manager)\\n\\n# Set global variables  \\nos.environ[\\\"SPOTIPY_CLIENT_ID\\\"] = client_id\\nos.environ[\\\"SPOTIPY_CLIENT_SECRET\\\"] = client_secret\\nos.environ[\\\"SPOTIPY_REDIRECT_URI\\\"] = \\\"http://localhost:8090/callback\\\"\";\n                var nbb_formatted_code = \"# Read the credentials from credentials.yml\\nwith open(\\\"../credentials.yml\\\") as f:\\n    credentials = yaml.load(f, Loader=yaml.FullLoader)\\n\\n# Set up the Spotify API\\nclient_id = credentials[\\\"client_id\\\"]  # YOUR_CLIENT_ID\\nclient_secret = credentials[\\\"client_secret\\\"]  # YOUR_CLIENT_SECRET\\nclient_credentials_manager = SpotifyClientCredentials(client_id, client_secret)\\nsp = spotipy.Spotify(client_credentials_manager=client_credentials_manager)\\n\\n# Set global variables\\nos.environ[\\\"SPOTIPY_CLIENT_ID\\\"] = client_id\\nos.environ[\\\"SPOTIPY_CLIENT_SECRET\\\"] = client_secret\\nos.environ[\\\"SPOTIPY_REDIRECT_URI\\\"] = \\\"http://localhost:8090/callback\\\"\";\n                var nbb_cells = Jupyter.notebook.get_cells();\n                for (var i = 0; i < nbb_cells.length; ++i) {\n                    if (nbb_cells[i].input_prompt_number == nbb_cell_id) {\n                        if (nbb_cells[i].get_text() == nbb_unformatted_code) {\n                             nbb_cells[i].set_text(nbb_formatted_code);\n                        }\n                        break;\n                    }\n                }\n            }, 500);\n            ",
      "text/plain": [
       "<IPython.core.display.Javascript object>"
      ]
     },
     "metadata": {},
     "output_type": "display_data"
    }
   ],
   "source": [
    "# Read the credentials from credentials.yml\n",
    "with open(\"../credentials.yml\") as f:\n",
    "    credentials = yaml.load(f, Loader=yaml.FullLoader)\n",
    "\n",
    "# Set up the Spotify API\n",
    "client_id = credentials[\"client_id\"]  # YOUR_CLIENT_ID\n",
    "client_secret = credentials[\"client_secret\"]  # YOUR_CLIENT_SECRET\n",
    "client_credentials_manager = SpotifyClientCredentials(client_id, client_secret)\n",
    "sp = spotipy.Spotify(client_credentials_manager=client_credentials_manager)\n",
    "\n",
    "# Set global variables  \n",
    "os.environ[\"SPOTIPY_CLIENT_ID\"] = client_id\n",
    "os.environ[\"SPOTIPY_CLIENT_SECRET\"] = client_secret\n",
    "os.environ[\"SPOTIPY_REDIRECT_URI\"] = \"http://localhost:8090/callback\""
   ]
  },
  {
   "cell_type": "markdown",
   "metadata": {},
   "source": [
    "## Define useful functions"
   ]
  },
  {
   "cell_type": "code",
   "execution_count": 5,
   "metadata": {},
   "outputs": [
    {
     "data": {
      "application/javascript": "\n            setTimeout(function() {\n                var nbb_cell_id = 5;\n                var nbb_unformatted_code = \"# my spotify username and playlist ids \\n# on playlist page, click on \\\"...\\\" -> then on \\\"Share\\\" -> then \\\"Copy Spotify URI\\\"\\ndef getTrackIDs(user, playlist_id):\\n    ids = []\\n    playlist = sp.user_playlist(user, playlist_id)\\n    for item in playlist['tracks']['items']:\\n        track = item['track']\\n        ids.append(track['id'])\\n    return ids\";\n                var nbb_formatted_code = \"# my spotify username and playlist ids\\n# on playlist page, click on \\\"...\\\" -> then on \\\"Share\\\" -> then \\\"Copy Spotify URI\\\"\\ndef getTrackIDs(user, playlist_id):\\n    ids = []\\n    playlist = sp.user_playlist(user, playlist_id)\\n    for item in playlist[\\\"tracks\\\"][\\\"items\\\"]:\\n        track = item[\\\"track\\\"]\\n        ids.append(track[\\\"id\\\"])\\n    return ids\";\n                var nbb_cells = Jupyter.notebook.get_cells();\n                for (var i = 0; i < nbb_cells.length; ++i) {\n                    if (nbb_cells[i].input_prompt_number == nbb_cell_id) {\n                        if (nbb_cells[i].get_text() == nbb_unformatted_code) {\n                             nbb_cells[i].set_text(nbb_formatted_code);\n                        }\n                        break;\n                    }\n                }\n            }, 500);\n            ",
      "text/plain": [
       "<IPython.core.display.Javascript object>"
      ]
     },
     "metadata": {},
     "output_type": "display_data"
    }
   ],
   "source": [
    "# my spotify username and playlist ids \n",
    "# on playlist page, click on \"...\" -> then on \"Share\" -> then \"Copy Spotify URI\"\n",
    "def getTrackIDs(user, playlist_id):\n",
    "    ids = []\n",
    "    playlist = sp.user_playlist(user, playlist_id)\n",
    "    for item in playlist['tracks']['items']:\n",
    "        track = item['track']\n",
    "        ids.append(track['id'])\n",
    "    return ids"
   ]
  },
  {
   "cell_type": "markdown",
   "metadata": {},
   "source": [
    "## Play with the API\n"
   ]
  },
  {
   "cell_type": "markdown",
   "metadata": {},
   "source": [
    "<div class=\"alert alert-block alert-success\">\n",
    "<b><font color='green'>Explore:</font></b> User data\n",
    "</div>"
   ]
  },
  {
   "cell_type": "code",
   "execution_count": 6,
   "metadata": {},
   "outputs": [
    {
     "name": "stdout",
     "output_type": "stream",
     "text": [
      "{'display_name': 'Ariane Dlns', 'external_urls': {'spotify': 'https://open.spotify.com/user/arianedalens'}, 'followers': {'href': None, 'total': 6}, 'href': 'https://api.spotify.com/v1/users/arianedalens', 'id': 'arianedalens', 'images': [{'height': None, 'url': 'https://i.scdn.co/image/ab6775700000ee8542e42794651cc973c190b2fb', 'width': None}], 'type': 'user', 'uri': 'spotify:user:arianedalens'}\n"
     ]
    },
    {
     "data": {
      "application/javascript": "\n            setTimeout(function() {\n                var nbb_cell_id = 6;\n                var nbb_unformatted_code = \"user = sp.user('arianedalens')\\nprint(user)\";\n                var nbb_formatted_code = \"user = sp.user(\\\"arianedalens\\\")\\nprint(user)\";\n                var nbb_cells = Jupyter.notebook.get_cells();\n                for (var i = 0; i < nbb_cells.length; ++i) {\n                    if (nbb_cells[i].input_prompt_number == nbb_cell_id) {\n                        if (nbb_cells[i].get_text() == nbb_unformatted_code) {\n                             nbb_cells[i].set_text(nbb_formatted_code);\n                        }\n                        break;\n                    }\n                }\n            }, 500);\n            ",
      "text/plain": [
       "<IPython.core.display.Javascript object>"
      ]
     },
     "metadata": {},
     "output_type": "display_data"
    }
   ],
   "source": [
    "user = sp.user('arianedalens')\n",
    "print(user)"
   ]
  },
  {
   "cell_type": "code",
   "execution_count": 15,
   "metadata": {},
   "outputs": [
    {
     "name": "stdout",
     "output_type": "stream",
     "text": [
      "0 Coline's picks\n",
      "1 Radar des sorties\n",
      "2 Discover Weekly\n",
      "3 Your Time Capsule\n",
      "4 On Repeat\n"
     ]
    },
    {
     "data": {
      "application/javascript": "\n            setTimeout(function() {\n                var nbb_cell_id = 15;\n                var nbb_unformatted_code = \"from spotipy.oauth2 import SpotifyOAuth\\n\\nscope = 'playlist-read-private'\\nsp = spotipy.Spotify(auth_manager=SpotifyOAuth(scope=scope))\\n\\nresults = sp.current_user_playlists(limit=5, offset=0)\\nfor i, item in enumerate(results['items']):\\n    print(\\\"%d %s\\\" % (i, item['name']))\";\n                var nbb_formatted_code = \"from spotipy.oauth2 import SpotifyOAuth\\n\\nscope = \\\"playlist-read-private\\\"\\nsp = spotipy.Spotify(auth_manager=SpotifyOAuth(scope=scope))\\n\\nresults = sp.current_user_playlists(limit=5, offset=0)\\nfor i, item in enumerate(results[\\\"items\\\"]):\\n    print(\\\"%d %s\\\" % (i, item[\\\"name\\\"]))\";\n                var nbb_cells = Jupyter.notebook.get_cells();\n                for (var i = 0; i < nbb_cells.length; ++i) {\n                    if (nbb_cells[i].input_prompt_number == nbb_cell_id) {\n                        if (nbb_cells[i].get_text() == nbb_unformatted_code) {\n                             nbb_cells[i].set_text(nbb_formatted_code);\n                        }\n                        break;\n                    }\n                }\n            }, 500);\n            ",
      "text/plain": [
       "<IPython.core.display.Javascript object>"
      ]
     },
     "metadata": {},
     "output_type": "display_data"
    }
   ],
   "source": [
    "from spotipy.oauth2 import SpotifyOAuth\n",
    "\n",
    "scope = 'playlist-read-private'\n",
    "sp = spotipy.Spotify(auth_manager=SpotifyOAuth(scope=scope))\n",
    "\n",
    "results = sp.current_user_playlists(limit=5, offset=0)\n",
    "for i, item in enumerate(results['items']):\n",
    "    print(\"%d %s\" % (i, item['name']))"
   ]
  },
  {
   "cell_type": "code",
   "execution_count": 26,
   "metadata": {},
   "outputs": [
    {
     "data": {
      "application/javascript": "\n            setTimeout(function() {\n                var nbb_cell_id = 26;\n                var nbb_unformatted_code = \"def getTrackFeatures(id):\\n    meta = sp.track(id)\\n    features = sp.audio_features(id)\\n\\n    # meta\\n    name = meta['name']\\n    album = meta['album']['name']\\n    artist = meta['album']['artists'][0]['name']\\n    release_date = meta['album']['release_date']\\n    length = meta['duration_ms']\\n    popularity = meta['popularity']\\n\\n    # features\\n    acousticness = features[0]['acousticness']\\n    danceability = features[0]['danceability']\\n    energy = features[0]['energy']\\n    instrumentalness = features[0]['instrumentalness']\\n    liveness = features[0]['liveness']\\n    loudness = features[0]['loudness']\\n    speechiness = features[0]['speechiness']\\n    tempo = features[0]['tempo']\\n    valence = features[0]['valence']\\n    time_signature = features[0]['time_signature']\\n    key = features[0]['key']\\n    mode = features[0]['mode']\\n    uri = features[0]['uri']\\n\\n    track = [name, album, artist, release_date,\\n             length, popularity, acousticness,\\n             danceability, energy, instrumentalness, \\n             liveness, loudness, speechiness, tempo, \\n             valence, time_signature,\\n             key, mode, uri]\\n    return track\";\n                var nbb_formatted_code = \"def getTrackFeatures(id):\\n    meta = sp.track(id)\\n    features = sp.audio_features(id)\\n\\n    # meta\\n    name = meta[\\\"name\\\"]\\n    album = meta[\\\"album\\\"][\\\"name\\\"]\\n    artist = meta[\\\"album\\\"][\\\"artists\\\"][0][\\\"name\\\"]\\n    release_date = meta[\\\"album\\\"][\\\"release_date\\\"]\\n    length = meta[\\\"duration_ms\\\"]\\n    popularity = meta[\\\"popularity\\\"]\\n\\n    # features\\n    acousticness = features[0][\\\"acousticness\\\"]\\n    danceability = features[0][\\\"danceability\\\"]\\n    energy = features[0][\\\"energy\\\"]\\n    instrumentalness = features[0][\\\"instrumentalness\\\"]\\n    liveness = features[0][\\\"liveness\\\"]\\n    loudness = features[0][\\\"loudness\\\"]\\n    speechiness = features[0][\\\"speechiness\\\"]\\n    tempo = features[0][\\\"tempo\\\"]\\n    valence = features[0][\\\"valence\\\"]\\n    time_signature = features[0][\\\"time_signature\\\"]\\n    key = features[0][\\\"key\\\"]\\n    mode = features[0][\\\"mode\\\"]\\n    uri = features[0][\\\"uri\\\"]\\n\\n    track = [\\n        name,\\n        album,\\n        artist,\\n        release_date,\\n        length,\\n        popularity,\\n        acousticness,\\n        danceability,\\n        energy,\\n        instrumentalness,\\n        liveness,\\n        loudness,\\n        speechiness,\\n        tempo,\\n        valence,\\n        time_signature,\\n        key,\\n        mode,\\n        uri,\\n    ]\\n    return track\";\n                var nbb_cells = Jupyter.notebook.get_cells();\n                for (var i = 0; i < nbb_cells.length; ++i) {\n                    if (nbb_cells[i].input_prompt_number == nbb_cell_id) {\n                        if (nbb_cells[i].get_text() == nbb_unformatted_code) {\n                             nbb_cells[i].set_text(nbb_formatted_code);\n                        }\n                        break;\n                    }\n                }\n            }, 500);\n            ",
      "text/plain": [
       "<IPython.core.display.Javascript object>"
      ]
     },
     "metadata": {},
     "output_type": "display_data"
    }
   ],
   "source": [
    "# Get spotify singular song data from these locations\n",
    "# https://developer.spotify.com/documentation/web-api/reference/#/operations/get-track\n",
    "# https://developer.spotify.com/documentation/web-api/reference/#/operations/get-audio-features\n",
    "\n",
    "def getTrackFeatures(id: str):\n",
    "    \"\"\"\n",
    "    Get the audio features for a single track\n",
    "    Args:\n",
    "        id: the spotify id of the track\n",
    "    Returns:\n",
    "        a dictionary of the audio features  \n",
    "    \"\"\"\n",
    "    meta = sp.track(id)\n",
    "    features = sp.audio_features(id)\n",
    "\n",
    "    # meta\n",
    "    name = meta['name']\n",
    "    album = meta['album']['name']\n",
    "    artist = meta['album']['artists'][0]['name']\n",
    "    release_date = meta['album']['release_date']\n",
    "    length = meta['duration_ms']\n",
    "    popularity = meta['popularity']\n",
    "\n",
    "    # features\n",
    "    acousticness = features[0]['acousticness']\n",
    "    danceability = features[0]['danceability']\n",
    "    energy = features[0]['energy']\n",
    "    instrumentalness = features[0]['instrumentalness']\n",
    "    liveness = features[0]['liveness']\n",
    "    loudness = features[0]['loudness']\n",
    "    speechiness = features[0]['speechiness']\n",
    "    tempo = features[0]['tempo']\n",
    "    valence = features[0]['valence']\n",
    "    time_signature = features[0]['time_signature']\n",
    "    key = features[0]['key']\n",
    "    mode = features[0]['mode']\n",
    "    uri = features[0]['uri']\n",
    "\n",
    "    track = [name, album, artist, release_date,\n",
    "             length, popularity, acousticness,\n",
    "             danceability, energy, instrumentalness, \n",
    "             liveness, loudness, speechiness, tempo, \n",
    "             valence, time_signature,\n",
    "             key, mode, uri]\n",
    "    return track\n"
   ]
  }
 ],
 "metadata": {
  "kernelspec": {
   "display_name": "Python 3.8.10 64-bit",
   "language": "python",
   "name": "python3"
  },
  "language_info": {
   "codemirror_mode": {
    "name": "ipython",
    "version": 3
   },
   "file_extension": ".py",
   "mimetype": "text/x-python",
   "name": "python",
   "nbconvert_exporter": "python",
   "pygments_lexer": "ipython3",
   "version": "3.8.10"
  },
  "vscode": {
   "interpreter": {
    "hash": "0adcc2737ebf6a4a119f135174df96668767fca1ef1112612db5ecadf2b6d608"
   }
  }
 },
 "nbformat": 4,
 "nbformat_minor": 2
}
